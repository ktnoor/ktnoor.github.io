{
 "cells": [
  {
   "cell_type": "markdown",
   "metadata": {
    "deletable": true,
    "editable": true
   },
   "source": [
    "# Publications markdown generator for academicpages\n",
    "\n",
    "Takes a TSV of publications with metadata and converts them for use with [academicpages.github.io](academicpages.github.io). This is an interactive Jupyter notebook ([see more info here](http://jupyter-notebook-beginner-guide.readthedocs.io/en/latest/what_is_jupyter.html)). The core python code is also in `publications.py`. Run either from the `markdown_generator` folder after replacing `publications.tsv` with one containing your data.\n",
    "\n",
    "TODO: Make this work with BibTex and other databases of citations, rather than Stuart's non-standard TSV format and citation style.\n"
   ]
  },
  {
   "cell_type": "markdown",
   "metadata": {},
   "source": [
    "## Data format\n",
    "\n",
    "The TSV needs to have the following columns: pub_date, title, venue, excerpt, citation, site_url, and paper_url, with a header at the top. \n",
    "\n",
    "- `excerpt` and `paper_url` can be blank, but the others must have values. \n",
    "- `pub_date` must be formatted as YYYY-MM-DD.\n",
    "- `url_slug` will be the descriptive part of the .md file and the permalink URL for the page about the paper. The .md file will be `YYYY-MM-DD-[url_slug].md` and the permalink will be `https://[yourdomain]/publications/YYYY-MM-DD-[url_slug]`\n",
    "\n",
    "This is how the raw file looks (it doesn't look pretty, use a spreadsheet or other program to edit and create)."
   ]
  },
  {
   "cell_type": "code",
   "execution_count": 1,
   "metadata": {
    "collapsed": false
   },
   "outputs": [
    {
     "name": "stdout",
     "output_type": "stream",
     "text": [
      "pub_date\ttitle\tvenue\texcerpt\tcitation\turl_slug\tpaper_url\tslides_url\n",
      "1/01/2022\tA Capsule Network for�Hierarchical Multi-label Image Classification\t\"Structural, Syntactic, and Statistical Pattern Recognition\"\tThis paper is about the multi-label image classification using a capsule network.\t\"<i>K. T. Noor, A. Robles-Kelly, and B. Kusy, �A Capsule Network for�Hierarchical Multi-label Image Classification�, in Structural, Syntactic, and Statistical Pattern Recognition, A. Krzyzak, C. Y. Suen, A. Torsello, and N. Nobile, Eds., in Lecture Notes in Computer Science. Cham: Springer International Publishing, 2022, pp. 163�172. doi: 10.1007/978-3-031-23028-8_17.</i>\"\tML-CapsNet\thttp://ktnoor.github.io/files/ml-capsnet.pdf\t\n",
      "1/10/2024\tH-CapsNet: A capsule network for hierarchical image classification\tJournal 1\tThis paper is about the number 2. The number 3 is left for future work.\t\"Your Name, You. (2010). \"\"Paper Title Number 2.\"\" <i>Journal 1</i>. 1(2).\"\tpaper-title-number-2\thttp://academicpages.github.io/files/paper2.pdf\t\n",
      "1/10/2015\tPaper Title Number 3\tJournal 1\tThis paper is about the number 3. The number 4 is left for future work.\t\"Your Name, You. (2015). \"\"Paper Title Number 3.\"\" <i>Journal 1</i>. 1(3).\"\tpaper-title-number-3\thttp://academicpages.github.io/files/paper3.pdf\t\n"
     ]
    }
   ],
   "source": [
    "!cat publications.tsv"
   ]
  },
  {
   "cell_type": "markdown",
   "metadata": {},
   "source": [
    "## Import pandas\n",
    "\n",
    "We are using the very handy pandas library for dataframes."
   ]
  },
  {
   "cell_type": "code",
   "execution_count": 2,
   "metadata": {
    "collapsed": true,
    "deletable": true,
    "editable": true
   },
   "outputs": [],
   "source": [
    "import pandas as pd"
   ]
  },
  {
   "cell_type": "markdown",
   "metadata": {},
   "source": [
    "## Import TSV\n",
    "\n",
    "Pandas makes this easy with the read_csv function. We are using a TSV, so we specify the separator as a tab, or `\\t`.\n",
    "\n",
    "I found it important to put this data in a tab-separated values format, because there are a lot of commas in this kind of data and comma-separated values can get messed up. However, you can modify the import statement, as pandas also has read_excel(), read_json(), and others."
   ]
  },
  {
   "cell_type": "code",
   "execution_count": 5,
   "metadata": {
    "collapsed": false,
    "deletable": true,
    "editable": true
   },
   "outputs": [
    {
     "data": {
      "text/html": [
       "<div>\n",
       "<style scoped>\n",
       "    .dataframe tbody tr th:only-of-type {\n",
       "        vertical-align: middle;\n",
       "    }\n",
       "\n",
       "    .dataframe tbody tr th {\n",
       "        vertical-align: top;\n",
       "    }\n",
       "\n",
       "    .dataframe thead th {\n",
       "        text-align: right;\n",
       "    }\n",
       "</style>\n",
       "<table border=\"1\" class=\"dataframe\">\n",
       "  <thead>\n",
       "    <tr style=\"text-align: right;\">\n",
       "      <th></th>\n",
       "      <th>pub_date</th>\n",
       "      <th>title</th>\n",
       "      <th>venue</th>\n",
       "      <th>excerpt</th>\n",
       "      <th>citation</th>\n",
       "      <th>url_slug</th>\n",
       "      <th>paper_url</th>\n",
       "      <th>slides_url</th>\n",
       "    </tr>\n",
       "  </thead>\n",
       "  <tbody>\n",
       "    <tr>\n",
       "      <th>0</th>\n",
       "      <td>1/01/2022</td>\n",
       "      <td>A Capsule Network for Hierarchical Multi-label...</td>\n",
       "      <td>Structural, Syntactic, and Statistical Pattern...</td>\n",
       "      <td>This paper is about the multi-label image clas...</td>\n",
       "      <td>&lt;i&gt;K. T. Noor, A. Robles-Kelly, and B. Kusy, A...</td>\n",
       "      <td>ML-CapsNet</td>\n",
       "      <td>http://ktnoor.github.io/files/ml-capsnet.pdf</td>\n",
       "      <td>NaN</td>\n",
       "    </tr>\n",
       "    <tr>\n",
       "      <th>1</th>\n",
       "      <td>1/03/2024</td>\n",
       "      <td>H-CapsNet: A capsule network for hierarchical ...</td>\n",
       "      <td>Pattern Recognition</td>\n",
       "      <td>This paper is about hierarchical multi-label i...</td>\n",
       "      <td>&lt;i&gt;K. T. Noor and A. Robles-Kelly, H-CapsNet: ...</td>\n",
       "      <td>H-CapsNet</td>\n",
       "      <td>http://ktnoor.github.io/files/h-capsnet.pdf</td>\n",
       "      <td>NaN</td>\n",
       "    </tr>\n",
       "    <tr>\n",
       "      <th>2</th>\n",
       "      <td>1/11/2023</td>\n",
       "      <td>A Bottom-Up Capsule Network for Hierarchical I...</td>\n",
       "      <td>2023 International Conference on Digital Image...</td>\n",
       "      <td>This paper is about the hierarchical image cla...</td>\n",
       "      <td>&lt;i&gt;K. T. Noor, A. Robles-Kelly, L. Y. Zhang, a...</td>\n",
       "      <td>BUH-CapsNet</td>\n",
       "      <td>http://ktnoor.github.io/files/buh-capsnet.pdf</td>\n",
       "      <td>NaN</td>\n",
       "    </tr>\n",
       "  </tbody>\n",
       "</table>\n",
       "</div>"
      ],
      "text/plain": [
       "    pub_date                                              title  \\\n",
       "0  1/01/2022  A Capsule Network for Hierarchical Multi-label...   \n",
       "1  1/03/2024  H-CapsNet: A capsule network for hierarchical ...   \n",
       "2  1/11/2023  A Bottom-Up Capsule Network for Hierarchical I...   \n",
       "\n",
       "                                               venue  \\\n",
       "0  Structural, Syntactic, and Statistical Pattern...   \n",
       "1                                Pattern Recognition   \n",
       "2  2023 International Conference on Digital Image...   \n",
       "\n",
       "                                             excerpt  \\\n",
       "0  This paper is about the multi-label image clas...   \n",
       "1  This paper is about hierarchical multi-label i...   \n",
       "2  This paper is about the hierarchical image cla...   \n",
       "\n",
       "                                            citation     url_slug  \\\n",
       "0  <i>K. T. Noor, A. Robles-Kelly, and B. Kusy, A...   ML-CapsNet   \n",
       "1  <i>K. T. Noor and A. Robles-Kelly, H-CapsNet: ...    H-CapsNet   \n",
       "2  <i>K. T. Noor, A. Robles-Kelly, L. Y. Zhang, a...  BUH-CapsNet   \n",
       "\n",
       "                                       paper_url  slides_url  \n",
       "0   http://ktnoor.github.io/files/ml-capsnet.pdf         NaN  \n",
       "1    http://ktnoor.github.io/files/h-capsnet.pdf         NaN  \n",
       "2  http://ktnoor.github.io/files/buh-capsnet.pdf         NaN  "
      ]
     },
     "execution_count": 5,
     "metadata": {},
     "output_type": "execute_result"
    }
   ],
   "source": [
    "publications = pd.read_csv(\"publications.tsv\", sep=\"\\t\", header=0)\n",
    "publications\n"
   ]
  },
  {
   "cell_type": "markdown",
   "metadata": {},
   "source": [
    "## Escape special characters\n",
    "\n",
    "YAML is very picky about how it takes a valid string, so we are replacing single and double quotes (and ampersands) with their HTML encoded equivilents. This makes them look not so readable in raw format, but they are parsed and rendered nicely."
   ]
  },
  {
   "cell_type": "code",
   "execution_count": 6,
   "metadata": {
    "collapsed": true,
    "deletable": true,
    "editable": true
   },
   "outputs": [],
   "source": [
    "html_escape_table = {\n",
    "    \"&\": \"&amp;\",\n",
    "    '\"': \"&quot;\",\n",
    "    \"'\": \"&apos;\"\n",
    "    }\n",
    "\n",
    "def html_escape(text):\n",
    "    \"\"\"Produce entities within text.\"\"\"\n",
    "    return \"\".join(html_escape_table.get(c,c) for c in text)"
   ]
  },
  {
   "cell_type": "markdown",
   "metadata": {},
   "source": [
    "## Creating the markdown files\n",
    "\n",
    "This is where the heavy lifting is done. This loops through all the rows in the TSV dataframe, then starts to concatentate a big string (```md```) that contains the markdown for each type. It does the YAML metadata first, then does the description for the individual page."
   ]
  },
  {
   "cell_type": "code",
   "execution_count": 7,
   "metadata": {
    "collapsed": false,
    "deletable": true,
    "editable": true
   },
   "outputs": [],
   "source": [
    "import os\n",
    "for row, item in publications.iterrows():\n",
    "    \n",
    "    md_filename = str(item.pub_date) + \"-\" + item.url_slug + \".md\"\n",
    "    html_filename = str(item.pub_date) + \"-\" + item.url_slug\n",
    "    year = item.pub_date[:4]\n",
    "    \n",
    "    ## YAML variables\n",
    "    \n",
    "    md = \"---\\ntitle: \\\"\"   + item.title + '\"\\n'\n",
    "    \n",
    "    md += \"\"\"collection: publications\"\"\"\n",
    "    \n",
    "    md += \"\"\"\\npermalink: /publication/\"\"\" + html_filename\n",
    "    \n",
    "    if len(str(item.excerpt)) > 5:\n",
    "        md += \"\\nexcerpt: '\" + html_escape(item.excerpt) + \"'\"\n",
    "    \n",
    "    md += \"\\ndate: \" + str(item.pub_date) \n",
    "    \n",
    "    md += \"\\nvenue: '\" + html_escape(item.venue) + \"'\"\n",
    "    \n",
    "    if len(str(item.slides_url)) > 5:\n",
    "        md += \"\\nslidesurl: '\" + item.slides_url + \"'\"\n",
    "\n",
    "    if len(str(item.paper_url)) > 5:\n",
    "        md += \"\\npaperurl: '\" + item.paper_url + \"'\"\n",
    "    \n",
    "    md += \"\\ncitation: '\" + html_escape(item.citation) + \"'\"\n",
    "    \n",
    "    md += \"\\n---\"\n",
    "    \n",
    "    ## Markdown description for individual page\n",
    "        \n",
    "    if len(str(item.excerpt)) > 5:\n",
    "        md += \"\\n\" + html_escape(item.excerpt) + \"\\n\"\n",
    "\n",
    "    if len(str(item.slides_url)) > 5:\n",
    "        md += \"\\n[Download slides here](\" + item.slides_url + \")\\n\" \n",
    "\n",
    "    if len(str(item.paper_url)) > 5:\n",
    "        md += \"\\n[Download paper here](\" + item.paper_url + \")\\n\" \n",
    "        \n",
    "    md += \"\\nRecommended citation: \" + item.citation\n",
    "    \n",
    "    md_filename = os.path.basename(md_filename)\n",
    "       \n",
    "    with open(\"../_publications/\" + md_filename, 'w') as f:\n",
    "        f.write(md)"
   ]
  },
  {
   "cell_type": "markdown",
   "metadata": {},
   "source": [
    "These files are in the publications directory, one directory below where we're working from."
   ]
  },
  {
   "cell_type": "code",
   "execution_count": 8,
   "metadata": {
    "collapsed": false,
    "deletable": true,
    "editable": true
   },
   "outputs": [
    {
     "name": "stdout",
     "output_type": "stream",
     "text": [
      "2022-ML-CapsNet.md  2023-BUH-CapsNet.md  2024-H-CapsNet.md  2024-hd-capsnet.md\n",
      "2022-ml-capsnet.md  2023-buh-capsnet.md  2024-h-capsnet.md\n"
     ]
    }
   ],
   "source": [
    "!ls ../_publications/"
   ]
  },
  {
   "cell_type": "code",
   "execution_count": 9,
   "metadata": {
    "collapsed": false,
    "deletable": true,
    "editable": true
   },
   "outputs": [
    {
     "name": "stdout",
     "output_type": "stream",
     "text": [
      "cat: ../_publications/2009-10-01-paper-title-number-1.md: No such file or directory\n"
     ]
    }
   ],
   "source": [
    "!cat ../_publications/2009-10-01-paper-title-number-1.md"
   ]
  },
  {
   "cell_type": "code",
   "execution_count": null,
   "metadata": {
    "collapsed": true,
    "deletable": true,
    "editable": true
   },
   "outputs": [],
   "source": []
  },
  {
   "cell_type": "code",
   "execution_count": null,
   "metadata": {},
   "outputs": [],
   "source": []
  }
 ],
 "metadata": {
  "kernelspec": {
   "display_name": "tf_214",
   "language": "python",
   "name": "python3"
  },
  "language_info": {
   "codemirror_mode": {
    "name": "ipython",
    "version": 3
   },
   "file_extension": ".py",
   "mimetype": "text/x-python",
   "name": "python",
   "nbconvert_exporter": "python",
   "pygments_lexer": "ipython3",
   "version": "3.11.7"
  }
 },
 "nbformat": 4,
 "nbformat_minor": 0
}
